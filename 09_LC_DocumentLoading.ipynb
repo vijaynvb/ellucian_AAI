{
  "cells": [
    {
      "cell_type": "markdown",
      "id": "7jvIN05PLgtV",
      "metadata": {
        "id": "7jvIN05PLgtV"
      },
      "source": [
        "# **Document Loading**\n",
        "\n",
        "Document loading refers to the process of fetching and retrieving content from external sources such as websites or databases into an application or system. It is essential for accessing and utilizing data, text, or multimedia resources dynamically, enabling applications to display, process, or manipulate information sourced from various repositories. This capability is crucial for real-time updates, content integration, and efficient data handling in modern software and web development.\n",
        "\n"
      ]
    },
    {
      "cell_type": "code",
      "execution_count": null,
      "id": "Fs_BT8h2LbXf",
      "metadata": {
        "id": "Fs_BT8h2LbXf"
      },
      "outputs": [],
      "source": [
        "%%capture\n",
        "# update or install the necessary libraries\n",
        "!pip install --upgrade langchain langchain_community langchain_aws pypdf python-dotenv"
      ]
    },
    {
      "cell_type": "code",
      "execution_count": null,
      "id": "ffd55395",
      "metadata": {
        "id": "ffd55395"
      },
      "outputs": [],
      "source": [
        "import os\n",
        "from dotenv import load_dotenv\n",
        "\n",
        "# Load environment variables from .env file\n",
        "load_dotenv()\n",
        "\n",
        "os.environ[\"AWS_ACCESS_KEY_ID\"] = os.getenv(\"AWS_ACCESS_KEY_ID\")\n",
        "os.environ[\"AWS_SECRET_ACCESS_KEY\"] = os.getenv(\"AWS_SECRET_ACCESS_KEY\")\n",
        "os.environ[\"AWS_DEFAULT_REGION\"] = os.getenv(\"AWS_DEFAULT_REGION\")"
      ]
    },
    {
      "cell_type": "markdown",
      "id": "Pj4FYj1dOxXm",
      "metadata": {
        "id": "Pj4FYj1dOxXm"
      },
      "source": [
        "# **PDF**"
      ]
    },
    {
      "cell_type": "code",
      "execution_count": null,
      "id": "f94a8167",
      "metadata": {
        "id": "f94a8167"
      },
      "outputs": [],
      "source": [
        "from langchain.document_loaders import PyPDFLoader\n",
        "loader = PyPDFLoader(\"./content/MachineLearning-Lecture01.pdf\")\n",
        "pages = loader.load()"
      ]
    },
    {
      "cell_type": "code",
      "execution_count": null,
      "id": "0190a889",
      "metadata": {
        "colab": {
          "base_uri": "https://localhost:8080/"
        },
        "id": "0190a889",
        "outputId": "befd82fb-06d0-48e9-9021-c4cdecbe44cd"
      },
      "outputs": [],
      "source": [
        "len(pages)\n",
        "\n",
        "page = pages[0]\n",
        "print(page.page_content[0:500])\n",
        "\n",
        "page.metadata"
      ]
    },
    {
      "cell_type": "markdown",
      "id": "jv999yitPEWJ",
      "metadata": {
        "id": "jv999yitPEWJ"
      },
      "source": [
        "# **URL**"
      ]
    },
    {
      "cell_type": "code",
      "execution_count": null,
      "id": "04070f0f",
      "metadata": {
        "colab": {
          "base_uri": "https://localhost:8080/",
          "height": 72
        },
        "id": "04070f0f",
        "outputId": "c1c93716-a66b-4704-9623-231675ea7be9"
      },
      "outputs": [],
      "source": [
        "from langchain.document_loaders import WebBaseLoader\n",
        "\n",
        "loader = WebBaseLoader(\"https://swayaan.com/\")\n",
        "\n",
        "docs = loader.load()\n",
        "content = docs[0].page_content.strip()\n",
        "content[:1000]"
      ]
    },
    {
      "cell_type": "markdown",
      "id": "HTF0Y2VFPI7r",
      "metadata": {
        "id": "HTF0Y2VFPI7r"
      },
      "source": [
        "# **CSV**"
      ]
    },
    {
      "cell_type": "code",
      "execution_count": null,
      "id": "RtxvLa3VOuVa",
      "metadata": {
        "colab": {
          "base_uri": "https://localhost:8080/"
        },
        "id": "RtxvLa3VOuVa",
        "outputId": "2172f5f0-14cb-4e3c-8a7a-f61bb1076a97"
      },
      "outputs": [],
      "source": [
        "from langchain_community.document_loaders.csv_loader import CSVLoader\n",
        "\n",
        "file_path = (\n",
        "    \"./content/employee.csv\"\n",
        ")\n",
        "\n",
        "loader = CSVLoader(file_path=file_path)\n",
        "data = loader.load()\n",
        "\n",
        "for record in data[:4]:\n",
        "    print(record)"
      ]
    },
    {
      "cell_type": "markdown",
      "id": "uwzCj-wIPgIL",
      "metadata": {
        "id": "uwzCj-wIPgIL"
      },
      "source": [
        "# **Let's Do an Activity**\n",
        "\n",
        "## **Objective**\n",
        "\n",
        "Practice document loading techniques with LangChain to fetch and process content from various sources such as PDFs, URLs, and CSV files.\n",
        "\n",
        "## **Scenario**\n",
        "\n",
        "You are developing a data processing module that needs to retrieve and analyze information from different types of documents. This activity will help you familiarize yourself with document loading capabilities in LangChain and understand how to handle diverse data sources effectively.\n",
        "\n",
        "## **Steps**\n",
        "\n",
        "* Load PDF Document\n",
        "* Load Web Content (URL)\n",
        "* Load CSV Data\n",
        "* Explore and Analyze"
      ]
    },
    {
      "cell_type": "code",
      "execution_count": null,
      "id": "qomHh87APgim",
      "metadata": {
        "id": "qomHh87APgim"
      },
      "outputs": [],
      "source": []
    }
  ],
  "metadata": {
    "colab": {
      "provenance": []
    },
    "kernelspec": {
      "display_name": "Python 3",
      "language": "python",
      "name": "python3"
    },
    "language_info": {
      "codemirror_mode": {
        "name": "ipython",
        "version": 3
      },
      "file_extension": ".py",
      "mimetype": "text/x-python",
      "name": "python",
      "nbconvert_exporter": "python",
      "pygments_lexer": "ipython3",
      "version": "3.12.10"
    }
  },
  "nbformat": 4,
  "nbformat_minor": 5
}
